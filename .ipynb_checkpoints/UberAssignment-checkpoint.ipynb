{
 "cells": [
  {
   "cell_type": "markdown",
   "id": "569a1f00",
   "metadata": {},
   "source": [
    "# Uber Cancellation Problem - EDA and Data Visualization"
   ]
  },
  {
   "cell_type": "markdown",
   "id": "91007973",
   "metadata": {},
   "source": [
    "### Import necessary libraries"
   ]
  },
  {
   "cell_type": "code",
   "execution_count": 262,
   "id": "761e17ab",
   "metadata": {},
   "outputs": [],
   "source": [
    "import numpy as np\n",
    "import pandas as pd\n",
    "import matplotlib.pyplot as plt"
   ]
  },
  {
   "cell_type": "markdown",
   "id": "99e0c924",
   "metadata": {},
   "source": [
    "### Load the data into pandas dataframes"
   ]
  },
  {
   "cell_type": "code",
   "execution_count": 263,
   "id": "aacc736b",
   "metadata": {},
   "outputs": [],
   "source": [
    "## Setting Request ID as index\n",
    "inp1 = pd.read_csv('Uber Request Data.csv',index_col=0)"
   ]
  },
  {
   "cell_type": "code",
   "execution_count": 264,
   "id": "5ab68402",
   "metadata": {},
   "outputs": [
    {
     "data": {
      "text/html": [
       "<div>\n",
       "<style scoped>\n",
       "    .dataframe tbody tr th:only-of-type {\n",
       "        vertical-align: middle;\n",
       "    }\n",
       "\n",
       "    .dataframe tbody tr th {\n",
       "        vertical-align: top;\n",
       "    }\n",
       "\n",
       "    .dataframe thead th {\n",
       "        text-align: right;\n",
       "    }\n",
       "</style>\n",
       "<table border=\"1\" class=\"dataframe\">\n",
       "  <thead>\n",
       "    <tr style=\"text-align: right;\">\n",
       "      <th></th>\n",
       "      <th>Pickup point</th>\n",
       "      <th>Driver id</th>\n",
       "      <th>Status</th>\n",
       "      <th>Request timestamp</th>\n",
       "      <th>Drop timestamp</th>\n",
       "    </tr>\n",
       "    <tr>\n",
       "      <th>Request id</th>\n",
       "      <th></th>\n",
       "      <th></th>\n",
       "      <th></th>\n",
       "      <th></th>\n",
       "      <th></th>\n",
       "    </tr>\n",
       "  </thead>\n",
       "  <tbody>\n",
       "    <tr>\n",
       "      <th>619</th>\n",
       "      <td>Airport</td>\n",
       "      <td>1.0</td>\n",
       "      <td>Trip Completed</td>\n",
       "      <td>11/7/2016 11:51</td>\n",
       "      <td>11/7/2016 13:00</td>\n",
       "    </tr>\n",
       "    <tr>\n",
       "      <th>867</th>\n",
       "      <td>Airport</td>\n",
       "      <td>1.0</td>\n",
       "      <td>Trip Completed</td>\n",
       "      <td>11/7/2016 17:57</td>\n",
       "      <td>11/7/2016 18:47</td>\n",
       "    </tr>\n",
       "    <tr>\n",
       "      <th>1807</th>\n",
       "      <td>City</td>\n",
       "      <td>1.0</td>\n",
       "      <td>Trip Completed</td>\n",
       "      <td>12/7/2016 9:17</td>\n",
       "      <td>12/7/2016 9:58</td>\n",
       "    </tr>\n",
       "    <tr>\n",
       "      <th>2532</th>\n",
       "      <td>Airport</td>\n",
       "      <td>1.0</td>\n",
       "      <td>Trip Completed</td>\n",
       "      <td>12/7/2016 21:08</td>\n",
       "      <td>12/7/2016 22:03</td>\n",
       "    </tr>\n",
       "    <tr>\n",
       "      <th>3112</th>\n",
       "      <td>City</td>\n",
       "      <td>1.0</td>\n",
       "      <td>Trip Completed</td>\n",
       "      <td>13-07-2016 08:33:16</td>\n",
       "      <td>13-07-2016 09:25:47</td>\n",
       "    </tr>\n",
       "    <tr>\n",
       "      <th>3879</th>\n",
       "      <td>Airport</td>\n",
       "      <td>1.0</td>\n",
       "      <td>Trip Completed</td>\n",
       "      <td>13-07-2016 21:57:28</td>\n",
       "      <td>13-07-2016 22:28:59</td>\n",
       "    </tr>\n",
       "    <tr>\n",
       "      <th>4270</th>\n",
       "      <td>Airport</td>\n",
       "      <td>1.0</td>\n",
       "      <td>Trip Completed</td>\n",
       "      <td>14-07-2016 06:15:32</td>\n",
       "      <td>14-07-2016 07:13:15</td>\n",
       "    </tr>\n",
       "    <tr>\n",
       "      <th>5510</th>\n",
       "      <td>Airport</td>\n",
       "      <td>1.0</td>\n",
       "      <td>Trip Completed</td>\n",
       "      <td>15-07-2016 05:11:52</td>\n",
       "      <td>15-07-2016 06:07:52</td>\n",
       "    </tr>\n",
       "    <tr>\n",
       "      <th>6248</th>\n",
       "      <td>City</td>\n",
       "      <td>1.0</td>\n",
       "      <td>Trip Completed</td>\n",
       "      <td>15-07-2016 17:57:27</td>\n",
       "      <td>15-07-2016 18:50:51</td>\n",
       "    </tr>\n",
       "    <tr>\n",
       "      <th>267</th>\n",
       "      <td>City</td>\n",
       "      <td>2.0</td>\n",
       "      <td>Trip Completed</td>\n",
       "      <td>11/7/2016 6:46</td>\n",
       "      <td>11/7/2016 7:25</td>\n",
       "    </tr>\n",
       "  </tbody>\n",
       "</table>\n",
       "</div>"
      ],
      "text/plain": [
       "           Pickup point  Driver id          Status    Request timestamp  \\\n",
       "Request id                                                                \n",
       "619             Airport        1.0  Trip Completed      11/7/2016 11:51   \n",
       "867             Airport        1.0  Trip Completed      11/7/2016 17:57   \n",
       "1807               City        1.0  Trip Completed       12/7/2016 9:17   \n",
       "2532            Airport        1.0  Trip Completed      12/7/2016 21:08   \n",
       "3112               City        1.0  Trip Completed  13-07-2016 08:33:16   \n",
       "3879            Airport        1.0  Trip Completed  13-07-2016 21:57:28   \n",
       "4270            Airport        1.0  Trip Completed  14-07-2016 06:15:32   \n",
       "5510            Airport        1.0  Trip Completed  15-07-2016 05:11:52   \n",
       "6248               City        1.0  Trip Completed  15-07-2016 17:57:27   \n",
       "267                City        2.0  Trip Completed       11/7/2016 6:46   \n",
       "\n",
       "                 Drop timestamp  \n",
       "Request id                       \n",
       "619             11/7/2016 13:00  \n",
       "867             11/7/2016 18:47  \n",
       "1807             12/7/2016 9:58  \n",
       "2532            12/7/2016 22:03  \n",
       "3112        13-07-2016 09:25:47  \n",
       "3879        13-07-2016 22:28:59  \n",
       "4270        14-07-2016 07:13:15  \n",
       "5510        15-07-2016 06:07:52  \n",
       "6248        15-07-2016 18:50:51  \n",
       "267              11/7/2016 7:25  "
      ]
     },
     "execution_count": 264,
     "metadata": {},
     "output_type": "execute_result"
    }
   ],
   "source": [
    "## Initial view of Data\n",
    "inp1.head(10)"
   ]
  },
  {
   "cell_type": "markdown",
   "id": "b8fd031c",
   "metadata": {},
   "source": [
    "### Data Wrangling and Data Standardization"
   ]
  },
  {
   "cell_type": "code",
   "execution_count": 265,
   "id": "85471fa0",
   "metadata": {},
   "outputs": [
    {
     "name": "stdout",
     "output_type": "stream",
     "text": [
      "<class 'pandas.core.frame.DataFrame'>\n",
      "Int64Index: 6745 entries, 619 to 6753\n",
      "Data columns (total 5 columns):\n",
      " #   Column             Non-Null Count  Dtype  \n",
      "---  ------             --------------  -----  \n",
      " 0   Pickup point       6745 non-null   object \n",
      " 1   Driver id          4095 non-null   float64\n",
      " 2   Status             6745 non-null   object \n",
      " 3   Request timestamp  6745 non-null   object \n",
      " 4   Drop timestamp     2831 non-null   object \n",
      "dtypes: float64(1), object(4)\n",
      "memory usage: 316.2+ KB\n"
     ]
    }
   ],
   "source": [
    "## Getting NOT NULL Fields\n",
    "inp1.info()"
   ]
  },
  {
   "cell_type": "markdown",
   "id": "a47068b8",
   "metadata": {},
   "source": [
    "### We can observe that\n",
    "### -- Drop timestamp has 2831 not null elements\n",
    "### -- and Driver id has 4095 not null elements \n",
    "\n"
   ]
  },
  {
   "cell_type": "code",
   "execution_count": 266,
   "id": "4395663c",
   "metadata": {},
   "outputs": [
    {
     "data": {
      "text/plain": [
       "array(['Trip Completed', 'Cancelled', 'No Cars Available'], dtype=object)"
      ]
     },
     "execution_count": 266,
     "metadata": {},
     "output_type": "execute_result"
    }
   ],
   "source": [
    "pd.unique(inp1.Status)"
   ]
  },
  {
   "cell_type": "markdown",
   "id": "d9bfb790",
   "metadata": {},
   "source": [
    "Now we need to analyse why Drop timestamp and Driver Id has null elements. \n",
    "Ideally Drop Timestamp should have null values only when trip status is \"Cancelled\" or \"No Cars Available\""
   ]
  },
  {
   "cell_type": "code",
   "execution_count": 267,
   "id": "a0223c83",
   "metadata": {},
   "outputs": [
    {
     "data": {
      "text/plain": [
       "Pickup point         0\n",
       "Driver id            0\n",
       "Status               0\n",
       "Request timestamp    0\n",
       "Drop timestamp       0\n",
       "dtype: int64"
      ]
     },
     "execution_count": 267,
     "metadata": {},
     "output_type": "execute_result"
    }
   ],
   "source": [
    "inp1[(inp1.Status == 'Trip Completed') & (inp1['Drop timestamp']).isnull()].count()"
   ]
  },
  {
   "cell_type": "markdown",
   "id": "73ec4108",
   "metadata": {},
   "source": [
    "This proves that the drop timestamp field has null value only when trip status is not Completed. Hence null values are intentional and should not be removed\n",
    "\n",
    "Lets analyze the same for field \"Driver id\""
   ]
  },
  {
   "cell_type": "code",
   "execution_count": 268,
   "id": "d1900e7e",
   "metadata": {},
   "outputs": [
    {
     "data": {
      "text/plain": [
       "No Cars Available    2650\n",
       "Name: Status, dtype: int64"
      ]
     },
     "execution_count": 268,
     "metadata": {},
     "output_type": "execute_result"
    }
   ],
   "source": [
    "inp1[(inp1['Driver id'].isna())]['Status'].value_counts()"
   ]
  },
  {
   "cell_type": "markdown",
   "id": "93bb5d74",
   "metadata": {},
   "source": [
    "Again this proves that Driver field is NA when there are no cars available in the area.\n",
    "Hence the null values in field \"Driver id\" are intentional and make sense"
   ]
  },
  {
   "cell_type": "markdown",
   "id": "e47cdf37",
   "metadata": {},
   "source": [
    "### Change \"Request timestamp\" and \"Drop timestamp\" into uniform date type"
   ]
  },
  {
   "cell_type": "code",
   "execution_count": 269,
   "id": "a3b68cf7",
   "metadata": {},
   "outputs": [],
   "source": [
    "inp1['Drop timestamp'] = pd.to_datetime(inp1['Drop timestamp'],dayfirst=True)\n",
    "inp1['Request timestamp'] = pd.to_datetime(inp1['Request timestamp'],dayfirst=True)"
   ]
  },
  {
   "cell_type": "code",
   "execution_count": 270,
   "id": "66aa3720",
   "metadata": {},
   "outputs": [
    {
     "data": {
      "text/html": [
       "<div>\n",
       "<style scoped>\n",
       "    .dataframe tbody tr th:only-of-type {\n",
       "        vertical-align: middle;\n",
       "    }\n",
       "\n",
       "    .dataframe tbody tr th {\n",
       "        vertical-align: top;\n",
       "    }\n",
       "\n",
       "    .dataframe thead th {\n",
       "        text-align: right;\n",
       "    }\n",
       "</style>\n",
       "<table border=\"1\" class=\"dataframe\">\n",
       "  <thead>\n",
       "    <tr style=\"text-align: right;\">\n",
       "      <th></th>\n",
       "      <th>Pickup point</th>\n",
       "      <th>Driver id</th>\n",
       "      <th>Status</th>\n",
       "      <th>Request timestamp</th>\n",
       "      <th>Drop timestamp</th>\n",
       "    </tr>\n",
       "    <tr>\n",
       "      <th>Request id</th>\n",
       "      <th></th>\n",
       "      <th></th>\n",
       "      <th></th>\n",
       "      <th></th>\n",
       "      <th></th>\n",
       "    </tr>\n",
       "  </thead>\n",
       "  <tbody>\n",
       "    <tr>\n",
       "      <th>619</th>\n",
       "      <td>Airport</td>\n",
       "      <td>1.0</td>\n",
       "      <td>Trip Completed</td>\n",
       "      <td>2016-07-11 11:51:00</td>\n",
       "      <td>2016-07-11 13:00:00</td>\n",
       "    </tr>\n",
       "    <tr>\n",
       "      <th>867</th>\n",
       "      <td>Airport</td>\n",
       "      <td>1.0</td>\n",
       "      <td>Trip Completed</td>\n",
       "      <td>2016-07-11 17:57:00</td>\n",
       "      <td>2016-07-11 18:47:00</td>\n",
       "    </tr>\n",
       "    <tr>\n",
       "      <th>1807</th>\n",
       "      <td>City</td>\n",
       "      <td>1.0</td>\n",
       "      <td>Trip Completed</td>\n",
       "      <td>2016-07-12 09:17:00</td>\n",
       "      <td>2016-07-12 09:58:00</td>\n",
       "    </tr>\n",
       "    <tr>\n",
       "      <th>2532</th>\n",
       "      <td>Airport</td>\n",
       "      <td>1.0</td>\n",
       "      <td>Trip Completed</td>\n",
       "      <td>2016-07-12 21:08:00</td>\n",
       "      <td>2016-07-12 22:03:00</td>\n",
       "    </tr>\n",
       "    <tr>\n",
       "      <th>3112</th>\n",
       "      <td>City</td>\n",
       "      <td>1.0</td>\n",
       "      <td>Trip Completed</td>\n",
       "      <td>2016-07-13 08:33:16</td>\n",
       "      <td>2016-07-13 09:25:47</td>\n",
       "    </tr>\n",
       "    <tr>\n",
       "      <th>3879</th>\n",
       "      <td>Airport</td>\n",
       "      <td>1.0</td>\n",
       "      <td>Trip Completed</td>\n",
       "      <td>2016-07-13 21:57:28</td>\n",
       "      <td>2016-07-13 22:28:59</td>\n",
       "    </tr>\n",
       "    <tr>\n",
       "      <th>4270</th>\n",
       "      <td>Airport</td>\n",
       "      <td>1.0</td>\n",
       "      <td>Trip Completed</td>\n",
       "      <td>2016-07-14 06:15:32</td>\n",
       "      <td>2016-07-14 07:13:15</td>\n",
       "    </tr>\n",
       "    <tr>\n",
       "      <th>5510</th>\n",
       "      <td>Airport</td>\n",
       "      <td>1.0</td>\n",
       "      <td>Trip Completed</td>\n",
       "      <td>2016-07-15 05:11:52</td>\n",
       "      <td>2016-07-15 06:07:52</td>\n",
       "    </tr>\n",
       "    <tr>\n",
       "      <th>6248</th>\n",
       "      <td>City</td>\n",
       "      <td>1.0</td>\n",
       "      <td>Trip Completed</td>\n",
       "      <td>2016-07-15 17:57:27</td>\n",
       "      <td>2016-07-15 18:50:51</td>\n",
       "    </tr>\n",
       "    <tr>\n",
       "      <th>267</th>\n",
       "      <td>City</td>\n",
       "      <td>2.0</td>\n",
       "      <td>Trip Completed</td>\n",
       "      <td>2016-07-11 06:46:00</td>\n",
       "      <td>2016-07-11 07:25:00</td>\n",
       "    </tr>\n",
       "    <tr>\n",
       "      <th>1467</th>\n",
       "      <td>Airport</td>\n",
       "      <td>2.0</td>\n",
       "      <td>Trip Completed</td>\n",
       "      <td>2016-07-12 05:08:00</td>\n",
       "      <td>2016-07-12 06:02:00</td>\n",
       "    </tr>\n",
       "    <tr>\n",
       "      <th>1983</th>\n",
       "      <td>City</td>\n",
       "      <td>2.0</td>\n",
       "      <td>Trip Completed</td>\n",
       "      <td>2016-07-12 12:30:00</td>\n",
       "      <td>2016-07-12 12:57:00</td>\n",
       "    </tr>\n",
       "    <tr>\n",
       "      <th>2784</th>\n",
       "      <td>Airport</td>\n",
       "      <td>2.0</td>\n",
       "      <td>Trip Completed</td>\n",
       "      <td>2016-07-13 04:49:20</td>\n",
       "      <td>2016-07-13 05:23:03</td>\n",
       "    </tr>\n",
       "    <tr>\n",
       "      <th>3075</th>\n",
       "      <td>City</td>\n",
       "      <td>2.0</td>\n",
       "      <td>Trip Completed</td>\n",
       "      <td>2016-07-13 08:02:53</td>\n",
       "      <td>2016-07-13 09:16:19</td>\n",
       "    </tr>\n",
       "    <tr>\n",
       "      <th>3379</th>\n",
       "      <td>City</td>\n",
       "      <td>2.0</td>\n",
       "      <td>Trip Completed</td>\n",
       "      <td>2016-07-13 14:23:02</td>\n",
       "      <td>2016-07-13 15:35:18</td>\n",
       "    </tr>\n",
       "    <tr>\n",
       "      <th>3482</th>\n",
       "      <td>Airport</td>\n",
       "      <td>2.0</td>\n",
       "      <td>Trip Completed</td>\n",
       "      <td>2016-07-13 17:23:18</td>\n",
       "      <td>2016-07-13 18:20:51</td>\n",
       "    </tr>\n",
       "    <tr>\n",
       "      <th>4652</th>\n",
       "      <td>City</td>\n",
       "      <td>2.0</td>\n",
       "      <td>Trip Completed</td>\n",
       "      <td>2016-07-14 12:01:02</td>\n",
       "      <td>2016-07-14 12:36:46</td>\n",
       "    </tr>\n",
       "    <tr>\n",
       "      <th>5335</th>\n",
       "      <td>Airport</td>\n",
       "      <td>2.0</td>\n",
       "      <td>Trip Completed</td>\n",
       "      <td>2016-07-14 22:24:13</td>\n",
       "      <td>2016-07-14 23:18:52</td>\n",
       "    </tr>\n",
       "    <tr>\n",
       "      <th>535</th>\n",
       "      <td>Airport</td>\n",
       "      <td>3.0</td>\n",
       "      <td>Trip Completed</td>\n",
       "      <td>2016-07-11 10:00:00</td>\n",
       "      <td>2016-07-11 10:31:00</td>\n",
       "    </tr>\n",
       "    <tr>\n",
       "      <th>960</th>\n",
       "      <td>Airport</td>\n",
       "      <td>3.0</td>\n",
       "      <td>Trip Completed</td>\n",
       "      <td>2016-07-11 18:45:00</td>\n",
       "      <td>2016-07-11 19:23:00</td>\n",
       "    </tr>\n",
       "  </tbody>\n",
       "</table>\n",
       "</div>"
      ],
      "text/plain": [
       "           Pickup point  Driver id          Status   Request timestamp  \\\n",
       "Request id                                                               \n",
       "619             Airport        1.0  Trip Completed 2016-07-11 11:51:00   \n",
       "867             Airport        1.0  Trip Completed 2016-07-11 17:57:00   \n",
       "1807               City        1.0  Trip Completed 2016-07-12 09:17:00   \n",
       "2532            Airport        1.0  Trip Completed 2016-07-12 21:08:00   \n",
       "3112               City        1.0  Trip Completed 2016-07-13 08:33:16   \n",
       "3879            Airport        1.0  Trip Completed 2016-07-13 21:57:28   \n",
       "4270            Airport        1.0  Trip Completed 2016-07-14 06:15:32   \n",
       "5510            Airport        1.0  Trip Completed 2016-07-15 05:11:52   \n",
       "6248               City        1.0  Trip Completed 2016-07-15 17:57:27   \n",
       "267                City        2.0  Trip Completed 2016-07-11 06:46:00   \n",
       "1467            Airport        2.0  Trip Completed 2016-07-12 05:08:00   \n",
       "1983               City        2.0  Trip Completed 2016-07-12 12:30:00   \n",
       "2784            Airport        2.0  Trip Completed 2016-07-13 04:49:20   \n",
       "3075               City        2.0  Trip Completed 2016-07-13 08:02:53   \n",
       "3379               City        2.0  Trip Completed 2016-07-13 14:23:02   \n",
       "3482            Airport        2.0  Trip Completed 2016-07-13 17:23:18   \n",
       "4652               City        2.0  Trip Completed 2016-07-14 12:01:02   \n",
       "5335            Airport        2.0  Trip Completed 2016-07-14 22:24:13   \n",
       "535             Airport        3.0  Trip Completed 2016-07-11 10:00:00   \n",
       "960             Airport        3.0  Trip Completed 2016-07-11 18:45:00   \n",
       "\n",
       "                Drop timestamp  \n",
       "Request id                      \n",
       "619        2016-07-11 13:00:00  \n",
       "867        2016-07-11 18:47:00  \n",
       "1807       2016-07-12 09:58:00  \n",
       "2532       2016-07-12 22:03:00  \n",
       "3112       2016-07-13 09:25:47  \n",
       "3879       2016-07-13 22:28:59  \n",
       "4270       2016-07-14 07:13:15  \n",
       "5510       2016-07-15 06:07:52  \n",
       "6248       2016-07-15 18:50:51  \n",
       "267        2016-07-11 07:25:00  \n",
       "1467       2016-07-12 06:02:00  \n",
       "1983       2016-07-12 12:57:00  \n",
       "2784       2016-07-13 05:23:03  \n",
       "3075       2016-07-13 09:16:19  \n",
       "3379       2016-07-13 15:35:18  \n",
       "3482       2016-07-13 18:20:51  \n",
       "4652       2016-07-14 12:36:46  \n",
       "5335       2016-07-14 23:18:52  \n",
       "535        2016-07-11 10:31:00  \n",
       "960        2016-07-11 19:23:00  "
      ]
     },
     "execution_count": 270,
     "metadata": {},
     "output_type": "execute_result"
    }
   ],
   "source": [
    "inp1.head(20)"
   ]
  },
  {
   "cell_type": "markdown",
   "id": "85d1339a",
   "metadata": {},
   "source": [
    "### Create additional column that will contain duration of trip in minutes\n",
    "### In case where Drop timestamp is null the duration will be null as well "
   ]
  },
  {
   "cell_type": "code",
   "execution_count": 271,
   "id": "68acd553",
   "metadata": {},
   "outputs": [],
   "source": [
    "inp1['Duration'] = (inp1['Drop timestamp'] - inp1['Request timestamp']).dt.seconds/60"
   ]
  },
  {
   "cell_type": "code",
   "execution_count": 272,
   "id": "45079371",
   "metadata": {},
   "outputs": [
    {
     "data": {
      "text/plain": [
       "count    2831.000000\n",
       "mean       52.413753\n",
       "std        13.850693\n",
       "min        20.783333\n",
       "25%        41.000000\n",
       "50%        52.083333\n",
       "75%        64.000000\n",
       "max        83.000000\n",
       "Name: Duration, dtype: float64"
      ]
     },
     "execution_count": 272,
     "metadata": {},
     "output_type": "execute_result"
    }
   ],
   "source": [
    "inp1.Duration.describe()"
   ]
  },
  {
   "cell_type": "code",
   "execution_count": 273,
   "id": "f2f053ba",
   "metadata": {},
   "outputs": [
    {
     "data": {
      "text/html": [
       "<div>\n",
       "<style scoped>\n",
       "    .dataframe tbody tr th:only-of-type {\n",
       "        vertical-align: middle;\n",
       "    }\n",
       "\n",
       "    .dataframe tbody tr th {\n",
       "        vertical-align: top;\n",
       "    }\n",
       "\n",
       "    .dataframe thead th {\n",
       "        text-align: right;\n",
       "    }\n",
       "</style>\n",
       "<table border=\"1\" class=\"dataframe\">\n",
       "  <thead>\n",
       "    <tr style=\"text-align: right;\">\n",
       "      <th></th>\n",
       "      <th>Pickup point</th>\n",
       "      <th>Driver id</th>\n",
       "      <th>Status</th>\n",
       "      <th>Request timestamp</th>\n",
       "      <th>Drop timestamp</th>\n",
       "      <th>Duration</th>\n",
       "    </tr>\n",
       "    <tr>\n",
       "      <th>Request id</th>\n",
       "      <th></th>\n",
       "      <th></th>\n",
       "      <th></th>\n",
       "      <th></th>\n",
       "      <th></th>\n",
       "      <th></th>\n",
       "    </tr>\n",
       "  </thead>\n",
       "  <tbody>\n",
       "    <tr>\n",
       "      <th>619</th>\n",
       "      <td>Airport</td>\n",
       "      <td>1.0</td>\n",
       "      <td>Trip Completed</td>\n",
       "      <td>2016-07-11 11:51:00</td>\n",
       "      <td>2016-07-11 13:00:00</td>\n",
       "      <td>69.000000</td>\n",
       "    </tr>\n",
       "    <tr>\n",
       "      <th>867</th>\n",
       "      <td>Airport</td>\n",
       "      <td>1.0</td>\n",
       "      <td>Trip Completed</td>\n",
       "      <td>2016-07-11 17:57:00</td>\n",
       "      <td>2016-07-11 18:47:00</td>\n",
       "      <td>50.000000</td>\n",
       "    </tr>\n",
       "    <tr>\n",
       "      <th>1807</th>\n",
       "      <td>City</td>\n",
       "      <td>1.0</td>\n",
       "      <td>Trip Completed</td>\n",
       "      <td>2016-07-12 09:17:00</td>\n",
       "      <td>2016-07-12 09:58:00</td>\n",
       "      <td>41.000000</td>\n",
       "    </tr>\n",
       "    <tr>\n",
       "      <th>2532</th>\n",
       "      <td>Airport</td>\n",
       "      <td>1.0</td>\n",
       "      <td>Trip Completed</td>\n",
       "      <td>2016-07-12 21:08:00</td>\n",
       "      <td>2016-07-12 22:03:00</td>\n",
       "      <td>55.000000</td>\n",
       "    </tr>\n",
       "    <tr>\n",
       "      <th>3112</th>\n",
       "      <td>City</td>\n",
       "      <td>1.0</td>\n",
       "      <td>Trip Completed</td>\n",
       "      <td>2016-07-13 08:33:16</td>\n",
       "      <td>2016-07-13 09:25:47</td>\n",
       "      <td>52.516667</td>\n",
       "    </tr>\n",
       "  </tbody>\n",
       "</table>\n",
       "</div>"
      ],
      "text/plain": [
       "           Pickup point  Driver id          Status   Request timestamp  \\\n",
       "Request id                                                               \n",
       "619             Airport        1.0  Trip Completed 2016-07-11 11:51:00   \n",
       "867             Airport        1.0  Trip Completed 2016-07-11 17:57:00   \n",
       "1807               City        1.0  Trip Completed 2016-07-12 09:17:00   \n",
       "2532            Airport        1.0  Trip Completed 2016-07-12 21:08:00   \n",
       "3112               City        1.0  Trip Completed 2016-07-13 08:33:16   \n",
       "\n",
       "                Drop timestamp   Duration  \n",
       "Request id                                 \n",
       "619        2016-07-11 13:00:00  69.000000  \n",
       "867        2016-07-11 18:47:00  50.000000  \n",
       "1807       2016-07-12 09:58:00  41.000000  \n",
       "2532       2016-07-12 22:03:00  55.000000  \n",
       "3112       2016-07-13 09:25:47  52.516667  "
      ]
     },
     "execution_count": 273,
     "metadata": {},
     "output_type": "execute_result"
    }
   ],
   "source": [
    "inp1.head()"
   ]
  },
  {
   "cell_type": "markdown",
   "id": "6b40d925",
   "metadata": {},
   "source": [
    "### Split time zones into different parts of day i.e Early Morning, Morning, Afternoon, Evening, Night"
   ]
  },
  {
   "cell_type": "code",
   "execution_count": 274,
   "id": "b3234ccd",
   "metadata": {},
   "outputs": [
    {
     "data": {
      "text/plain": [
       "datetime.time"
      ]
     },
     "execution_count": 274,
     "metadata": {},
     "output_type": "execute_result"
    }
   ],
   "source": [
    "time = inp1['Request timestamp'].dt.time\n",
    "type(time.iloc[0])"
   ]
  },
  {
   "cell_type": "code",
   "execution_count": 277,
   "id": "180a8de7",
   "metadata": {},
   "outputs": [],
   "source": [
    "b = [0,4,8,12,16,20,24]\n",
    "l = ['Late Night', 'Early Morning','Morning','Noon','Evening','Night']\n",
    "inp1['Timezone'] = pd.cut(inp1['Request timestamp'].dt.hour, bins=b, labels=l, include_lowest=True)"
   ]
  },
  {
   "cell_type": "code",
   "execution_count": 278,
   "id": "a22090e9",
   "metadata": {
    "scrolled": true
   },
   "outputs": [
    {
     "data": {
      "text/html": [
       "<div>\n",
       "<style scoped>\n",
       "    .dataframe tbody tr th:only-of-type {\n",
       "        vertical-align: middle;\n",
       "    }\n",
       "\n",
       "    .dataframe tbody tr th {\n",
       "        vertical-align: top;\n",
       "    }\n",
       "\n",
       "    .dataframe thead th {\n",
       "        text-align: right;\n",
       "    }\n",
       "</style>\n",
       "<table border=\"1\" class=\"dataframe\">\n",
       "  <thead>\n",
       "    <tr style=\"text-align: right;\">\n",
       "      <th></th>\n",
       "      <th>Pickup point</th>\n",
       "      <th>Driver id</th>\n",
       "      <th>Status</th>\n",
       "      <th>Request timestamp</th>\n",
       "      <th>Drop timestamp</th>\n",
       "      <th>Duration</th>\n",
       "      <th>Timezone</th>\n",
       "    </tr>\n",
       "    <tr>\n",
       "      <th>Request id</th>\n",
       "      <th></th>\n",
       "      <th></th>\n",
       "      <th></th>\n",
       "      <th></th>\n",
       "      <th></th>\n",
       "      <th></th>\n",
       "      <th></th>\n",
       "    </tr>\n",
       "  </thead>\n",
       "  <tbody>\n",
       "    <tr>\n",
       "      <th>619</th>\n",
       "      <td>Airport</td>\n",
       "      <td>1.0</td>\n",
       "      <td>Trip Completed</td>\n",
       "      <td>2016-07-11 11:51:00</td>\n",
       "      <td>2016-07-11 13:00:00</td>\n",
       "      <td>69.000000</td>\n",
       "      <td>Morning</td>\n",
       "    </tr>\n",
       "    <tr>\n",
       "      <th>867</th>\n",
       "      <td>Airport</td>\n",
       "      <td>1.0</td>\n",
       "      <td>Trip Completed</td>\n",
       "      <td>2016-07-11 17:57:00</td>\n",
       "      <td>2016-07-11 18:47:00</td>\n",
       "      <td>50.000000</td>\n",
       "      <td>Evening</td>\n",
       "    </tr>\n",
       "    <tr>\n",
       "      <th>1807</th>\n",
       "      <td>City</td>\n",
       "      <td>1.0</td>\n",
       "      <td>Trip Completed</td>\n",
       "      <td>2016-07-12 09:17:00</td>\n",
       "      <td>2016-07-12 09:58:00</td>\n",
       "      <td>41.000000</td>\n",
       "      <td>Morning</td>\n",
       "    </tr>\n",
       "    <tr>\n",
       "      <th>2532</th>\n",
       "      <td>Airport</td>\n",
       "      <td>1.0</td>\n",
       "      <td>Trip Completed</td>\n",
       "      <td>2016-07-12 21:08:00</td>\n",
       "      <td>2016-07-12 22:03:00</td>\n",
       "      <td>55.000000</td>\n",
       "      <td>Night</td>\n",
       "    </tr>\n",
       "    <tr>\n",
       "      <th>3112</th>\n",
       "      <td>City</td>\n",
       "      <td>1.0</td>\n",
       "      <td>Trip Completed</td>\n",
       "      <td>2016-07-13 08:33:16</td>\n",
       "      <td>2016-07-13 09:25:47</td>\n",
       "      <td>52.516667</td>\n",
       "      <td>Early Morning</td>\n",
       "    </tr>\n",
       "  </tbody>\n",
       "</table>\n",
       "</div>"
      ],
      "text/plain": [
       "           Pickup point  Driver id          Status   Request timestamp  \\\n",
       "Request id                                                               \n",
       "619             Airport        1.0  Trip Completed 2016-07-11 11:51:00   \n",
       "867             Airport        1.0  Trip Completed 2016-07-11 17:57:00   \n",
       "1807               City        1.0  Trip Completed 2016-07-12 09:17:00   \n",
       "2532            Airport        1.0  Trip Completed 2016-07-12 21:08:00   \n",
       "3112               City        1.0  Trip Completed 2016-07-13 08:33:16   \n",
       "\n",
       "                Drop timestamp   Duration       Timezone  \n",
       "Request id                                                \n",
       "619        2016-07-11 13:00:00  69.000000        Morning  \n",
       "867        2016-07-11 18:47:00  50.000000        Evening  \n",
       "1807       2016-07-12 09:58:00  41.000000        Morning  \n",
       "2532       2016-07-12 22:03:00  55.000000          Night  \n",
       "3112       2016-07-13 09:25:47  52.516667  Early Morning  "
      ]
     },
     "execution_count": 278,
     "metadata": {},
     "output_type": "execute_result"
    }
   ],
   "source": [
    "inp1.head(5)"
   ]
  },
  {
   "cell_type": "code",
   "execution_count": 279,
   "id": "c44377d8",
   "metadata": {},
   "outputs": [
    {
     "data": {
      "image/png": "[encoded data removed]",
      "text/plain": [
       "<Figure size 432x288 with 1 Axes>"
      ]
     },
     "metadata": {
      "needs_background": "light"
     },
     "output_type": "display_data"
    }
   ],
   "source": [
    "inp1.groupby('Timezone')['Duration'].mean().plot.bar()\n",
    "plt.ylabel('Average Duration')\n",
    "plt.show()"
   ]
  },
  {
   "cell_type": "code",
   "execution_count": 283,
   "id": "4f25c0d4",
   "metadata": {},
   "outputs": [],
   "source": [
    "def func(status):\n",
    "    if status == 'Trip Completed':\n",
    "        return 1\n",
    "    else:\n",
    "        return 0"
   ]
  },
  {
   "cell_type": "markdown",
   "id": "d4aec73d",
   "metadata": {},
   "source": [
    "There is no considerable difference in average trip duration in different time zones\n",
    "Lets see now count of Cancelled or No Cars available during each time zone"
   ]
  },
  {
   "cell_type": "code",
   "execution_count": 284,
   "id": "1e6f7a5d",
   "metadata": {},
   "outputs": [],
   "source": [
    "inp1['Trips_Completed'] = inp1.Status.apply(func)"
   ]
  },
  {
   "cell_type": "code",
   "execution_count": 285,
   "id": "d034e480",
   "metadata": {},
   "outputs": [
    {
     "data": {
      "text/plain": [
       "<AxesSubplot:>"
      ]
     },
     "execution_count": 285,
     "metadata": {},
     "output_type": "execute_result"
    },
    {
     "data": {
      "image/png": "[encoded data removed]",
      "text/plain": [
       "<Figure size 432x288 with 1 Axes>"
      ]
     },
     "metadata": {
      "needs_background": "light"
     },
     "output_type": "display_data"
    }
   ],
   "source": [
    "inp1.Status.value_counts(normalize=True).plot.bar()"
   ]
  },
  {
   "cell_type": "markdown",
   "id": "7f1bf264",
   "metadata": {},
   "source": [
    "Out of all the trips irrespective of time zones we see that Trip Completed has highest ratio while Cancelled has lowest. "
   ]
  },
  {
   "cell_type": "markdown",
   "id": "1ec09f23",
   "metadata": {},
   "source": [
    "### Created an additional column where Trips that are completed are marked as 1 and trips that are not completed are marked as 0 in order to create a sense of comparison at which time zone the trips are mostly completed and at which time zone there is scarcity of cars"
   ]
  },
  {
   "cell_type": "code",
   "execution_count": 286,
   "id": "4a9adf43",
   "metadata": {},
   "outputs": [
    {
     "data": {
      "text/html": [
       "<div>\n",
       "<style scoped>\n",
       "    .dataframe tbody tr th:only-of-type {\n",
       "        vertical-align: middle;\n",
       "    }\n",
       "\n",
       "    .dataframe tbody tr th {\n",
       "        vertical-align: top;\n",
       "    }\n",
       "\n",
       "    .dataframe thead th {\n",
       "        text-align: right;\n",
       "    }\n",
       "</style>\n",
       "<table border=\"1\" class=\"dataframe\">\n",
       "  <thead>\n",
       "    <tr style=\"text-align: right;\">\n",
       "      <th></th>\n",
       "      <th>Pickup point</th>\n",
       "      <th>Driver id</th>\n",
       "      <th>Status</th>\n",
       "      <th>Request timestamp</th>\n",
       "      <th>Drop timestamp</th>\n",
       "      <th>Duration</th>\n",
       "      <th>Timezone</th>\n",
       "      <th>Trips_Completed</th>\n",
       "    </tr>\n",
       "    <tr>\n",
       "      <th>Request id</th>\n",
       "      <th></th>\n",
       "      <th></th>\n",
       "      <th></th>\n",
       "      <th></th>\n",
       "      <th></th>\n",
       "      <th></th>\n",
       "      <th></th>\n",
       "      <th></th>\n",
       "    </tr>\n",
       "  </thead>\n",
       "  <tbody>\n",
       "    <tr>\n",
       "      <th>619</th>\n",
       "      <td>Airport</td>\n",
       "      <td>1.0</td>\n",
       "      <td>Trip Completed</td>\n",
       "      <td>2016-07-11 11:51:00</td>\n",
       "      <td>2016-07-11 13:00:00</td>\n",
       "      <td>69.000000</td>\n",
       "      <td>Morning</td>\n",
       "      <td>1</td>\n",
       "    </tr>\n",
       "    <tr>\n",
       "      <th>867</th>\n",
       "      <td>Airport</td>\n",
       "      <td>1.0</td>\n",
       "      <td>Trip Completed</td>\n",
       "      <td>2016-07-11 17:57:00</td>\n",
       "      <td>2016-07-11 18:47:00</td>\n",
       "      <td>50.000000</td>\n",
       "      <td>Evening</td>\n",
       "      <td>1</td>\n",
       "    </tr>\n",
       "    <tr>\n",
       "      <th>1807</th>\n",
       "      <td>City</td>\n",
       "      <td>1.0</td>\n",
       "      <td>Trip Completed</td>\n",
       "      <td>2016-07-12 09:17:00</td>\n",
       "      <td>2016-07-12 09:58:00</td>\n",
       "      <td>41.000000</td>\n",
       "      <td>Morning</td>\n",
       "      <td>1</td>\n",
       "    </tr>\n",
       "    <tr>\n",
       "      <th>2532</th>\n",
       "      <td>Airport</td>\n",
       "      <td>1.0</td>\n",
       "      <td>Trip Completed</td>\n",
       "      <td>2016-07-12 21:08:00</td>\n",
       "      <td>2016-07-12 22:03:00</td>\n",
       "      <td>55.000000</td>\n",
       "      <td>Night</td>\n",
       "      <td>1</td>\n",
       "    </tr>\n",
       "    <tr>\n",
       "      <th>3112</th>\n",
       "      <td>City</td>\n",
       "      <td>1.0</td>\n",
       "      <td>Trip Completed</td>\n",
       "      <td>2016-07-13 08:33:16</td>\n",
       "      <td>2016-07-13 09:25:47</td>\n",
       "      <td>52.516667</td>\n",
       "      <td>Early Morning</td>\n",
       "      <td>1</td>\n",
       "    </tr>\n",
       "  </tbody>\n",
       "</table>\n",
       "</div>"
      ],
      "text/plain": [
       "           Pickup point  Driver id          Status   Request timestamp  \\\n",
       "Request id                                                               \n",
       "619             Airport        1.0  Trip Completed 2016-07-11 11:51:00   \n",
       "867             Airport        1.0  Trip Completed 2016-07-11 17:57:00   \n",
       "1807               City        1.0  Trip Completed 2016-07-12 09:17:00   \n",
       "2532            Airport        1.0  Trip Completed 2016-07-12 21:08:00   \n",
       "3112               City        1.0  Trip Completed 2016-07-13 08:33:16   \n",
       "\n",
       "                Drop timestamp   Duration       Timezone  Trips_Completed  \n",
       "Request id                                                                 \n",
       "619        2016-07-11 13:00:00  69.000000        Morning                1  \n",
       "867        2016-07-11 18:47:00  50.000000        Evening                1  \n",
       "1807       2016-07-12 09:58:00  41.000000        Morning                1  \n",
       "2532       2016-07-12 22:03:00  55.000000          Night                1  \n",
       "3112       2016-07-13 09:25:47  52.516667  Early Morning                1  "
      ]
     },
     "execution_count": 286,
     "metadata": {},
     "output_type": "execute_result"
    }
   ],
   "source": [
    "inp1.head()"
   ]
  },
  {
   "cell_type": "code",
   "execution_count": 301,
   "id": "8553cb41",
   "metadata": {},
   "outputs": [
    {
     "data": {
      "image/png": "[encoded data removed]",
      "text/plain": [
       "<Figure size 432x288 with 1 Axes>"
      ]
     },
     "metadata": {
      "needs_background": "light"
     },
     "output_type": "display_data"
    }
   ],
   "source": [
    "inp1.groupby('Timezone')['Trips_Completed'].mean().plot.bar()\n",
    "plt.ylabel(\"Trips Completion Ratio\")\n",
    "plt.title(\"Trip Completed ratio over different Time zones\")\n",
    "plt.savefig(\"Trip_Completion_Ratio.png\",bbox_inches='tight')\n",
    "plt.show()\n"
   ]
  },
  {
   "cell_type": "markdown",
   "id": "b6f803f6",
   "metadata": {},
   "source": [
    "#### This graph shows that in Early Morning i.e from 4:00-9:00 and in evening i.e. at 16:00 - 21:00 there are less success rates. This might be because those are peak hours where people go and return from work"
   ]
  },
  {
   "cell_type": "markdown",
   "id": "4c025c76",
   "metadata": {},
   "source": [
    "### Analyse Trips completed on the basis of City-Airport or Airport-City"
   ]
  },
  {
   "cell_type": "code",
   "execution_count": 288,
   "id": "fbbc0671",
   "metadata": {},
   "outputs": [
    {
     "data": {
      "image/png": "[encoded data removed]",
      "text/plain": [
       "<Figure size 648x288 with 1 Axes>"
      ]
     },
     "metadata": {
      "needs_background": "light"
     },
     "output_type": "display_data"
    }
   ],
   "source": [
    "plt.figure(figsize=(9,4))\n",
    "inp1.groupby('Pickup point')['Trips_Completed'].mean().plot.bar()\n",
    "plt.show()"
   ]
  },
  {
   "cell_type": "markdown",
   "id": "529e246e",
   "metadata": {},
   "source": [
    "#### Although there is no huge difference between Airport to City and City to Airport but we can still say looking at the data that Cabs from City to Airport have high conversion rates. "
   ]
  },
  {
   "cell_type": "markdown",
   "id": "a6c19633",
   "metadata": {},
   "source": [
    "### Now lets analyse the cars not available aspect so that we can take action which time zones need improvements"
   ]
  },
  {
   "cell_type": "markdown",
   "id": "4fad5c7c",
   "metadata": {},
   "source": [
    "### Lets now analyse the number of cars available at each time zone"
   ]
  },
  {
   "cell_type": "code",
   "execution_count": 291,
   "id": "8bceb44d",
   "metadata": {},
   "outputs": [],
   "source": [
    "def noCarsAvailable(x):\n",
    "    return x.value_counts()['No Cars Available']\n",
    "def cancelled(x):\n",
    "    return x.value_counts()['Cancelled']\n",
    "def completed(x):\n",
    "     return x.value_counts()['Trip Completed']"
   ]
  },
  {
   "cell_type": "code",
   "execution_count": 304,
   "id": "a48d9cf0",
   "metadata": {},
   "outputs": [
    {
     "data": {
      "image/png": "[encoded data removed]",
      "text/plain": [
       "<Figure size 432x288 with 1 Axes>"
      ]
     },
     "metadata": {
      "needs_background": "light"
     },
     "output_type": "display_data"
    }
   ],
   "source": [
    "inp1.groupby('Timezone')['Status'].aggregate([completed,noCarsAvailable, cancelled]).plot.bar()\n",
    "plt.ylabel(\"Trip Count\")\n",
    "plt.title(\"Status of Trips for different timezones\")\n",
    "plt.savefig(\"Trip_Status_Time_Zones.png\", bbox_inches='tight')\n",
    "plt.show()"
   ]
  },
  {
   "cell_type": "markdown",
   "id": "7c497d2b",
   "metadata": {},
   "source": [
    "#### This graph shows that in Evening i.e from 16:00 - 21:00, the number of requests are high but the cars that are not available are also high. The situation is not so good in night as well. While in Early Morning and Morning, drivers tend to cancel rides a lot"
   ]
  },
  {
   "cell_type": "markdown",
   "id": "8c415013",
   "metadata": {},
   "source": [
    "### Lets now analyse the number of cars available for each pickup location"
   ]
  },
  {
   "cell_type": "code",
   "execution_count": 293,
   "id": "7b6486a3",
   "metadata": {},
   "outputs": [
    {
     "data": {
      "text/plain": [
       "<AxesSubplot:xlabel='Pickup point'>"
      ]
     },
     "execution_count": 293,
     "metadata": {},
     "output_type": "execute_result"
    },
    {
     "data": {
      "image/png": "[encoded data removed]",
      "text/plain": [
       "<Figure size 432x288 with 1 Axes>"
      ]
     },
     "metadata": {
      "needs_background": "light"
     },
     "output_type": "display_data"
    }
   ],
   "source": [
    "inp1.groupby('Pickup point')['Status'].aggregate(['count',noCarsAvailable]).plot.bar()"
   ]
  },
  {
   "cell_type": "markdown",
   "id": "575036f1",
   "metadata": {},
   "source": [
    "#### The plot shows that clearly while travelling from Airport to City, we have quite a high supply demand gap, which was also evident from the conversion rates that we plotted for analysis of successful completion according to pick up city."
   ]
  },
  {
   "cell_type": "markdown",
   "id": "0a57c5c9",
   "metadata": {},
   "source": [
    "### Lets now analyse the pickup point with each slot of the day and find out cancelled and No cars available"
   ]
  },
  {
   "cell_type": "code",
   "execution_count": 305,
   "id": "4667c58e",
   "metadata": {},
   "outputs": [
    {
     "data": {
      "image/png": "[encoded data removed]",
      "text/plain": [
       "<Figure size 1080x720 with 1 Axes>"
      ]
     },
     "metadata": {
      "needs_background": "light"
     },
     "output_type": "display_data"
    }
   ],
   "source": [
    "\n",
    "inp1[inp1['Pickup point'] == 'Airport'].groupby(['Timezone','Status'])['Status'].count().unstack().plot.bar(legend=True, figsize=(15,10))\n",
    "plt.ylabel(\"Trip Count\")\n",
    "plt.title(\"Airport To City Trip Analysis\")\n",
    "plt.savefig(\"AirportToCityTrip.png\", bbox_inches='tight')\n",
    "plt.show()\n"
   ]
  },
  {
   "cell_type": "code",
   "execution_count": 306,
   "id": "0b6e6e7a",
   "metadata": {},
   "outputs": [
    {
     "data": {
      "image/png": "[encoded data removed]",
      "text/plain": [
       "<Figure size 1080x720 with 1 Axes>"
      ]
     },
     "metadata": {
      "needs_background": "light"
     },
     "output_type": "display_data"
    }
   ],
   "source": [
    "inp1[inp1['Pickup point'] == 'City'].groupby(['Timezone','Status'])['Status'].count().unstack().plot.bar(legend=True, figsize=(15,10))\n",
    "plt.ylabel(\"Trip Count\")\n",
    "plt.title(\"City To Airport Trip Analysis\")\n",
    "plt.savefig(\"CityToAirportTrip.png\", bbox_inches='tight')\n",
    "plt.show()"
   ]
  },
  {
   "cell_type": "markdown",
   "id": "ca4b5d47",
   "metadata": {},
   "source": [
    "### These two graphs show that from Airport To city we have high shortage of drivers in evening while going from City to Airport lots of drivers cancelled their rides in morning"
   ]
  },
  {
   "cell_type": "markdown",
   "id": "ebceb73a",
   "metadata": {},
   "source": [
    "### Lets estimate now the supply demand for each pickup location"
   ]
  },
  {
   "cell_type": "code",
   "execution_count": 308,
   "id": "70c794e4",
   "metadata": {},
   "outputs": [
    {
     "data": {
      "image/png": "[encoded data removed]",
      "text/plain": [
       "<Figure size 1080x720 with 1 Axes>"
      ]
     },
     "metadata": {
      "needs_background": "light"
     },
     "output_type": "display_data"
    }
   ],
   "source": [
    "inp1[inp1['Pickup point'] == 'City'].groupby(['Timezone','Trips_Completed']).Trips_Completed.count().unstack().plot.line(legend=True, figsize=(15,10))\n",
    "plt.title(\"Supply Demand Curve from City To Airport\")\n",
    "plt.ylabel(\"trip Count\")\n",
    "plt.savefig(\"CityToAirportTripSDC.png\", bbox_inches='tight')\n",
    "plt.show()\n"
   ]
  },
  {
   "cell_type": "code",
   "execution_count": 307,
   "id": "bebaaebd",
   "metadata": {},
   "outputs": [
    {
     "data": {
      "image/png": "[encoded data removed]",
      "text/plain": [
       "<Figure size 1080x720 with 1 Axes>"
      ]
     },
     "metadata": {
      "needs_background": "light"
     },
     "output_type": "display_data"
    }
   ],
   "source": [
    "inp1[inp1['Pickup point'] == 'Airport'].groupby(['Timezone','Trips_Completed']).Trips_Completed.count().unstack().plot.line(legend=True, figsize=(15,10))\n",
    "plt.title(\"Supply Demand Curve from Airport to City\")\n",
    "plt.ylabel(\"trip Count\")\n",
    "plt.savefig(\"AirportToCityTripSDC.png\", bbox_inches='tight')\n",
    "plt.show()"
   ]
  },
  {
   "cell_type": "markdown",
   "id": "f7cf77e4",
   "metadata": {},
   "source": [
    "### With these plots we estimated that for each time zones, the supply demand gap, we found that while going from City to Airport, there is high gap in early morning, while from Airport to City, in evening we have quite a difference"
   ]
  },
  {
   "cell_type": "markdown",
   "id": "a0188932",
   "metadata": {},
   "source": [
    "### Q ) What do you think is the reason for this issue for the supply-demand gap? Write the answer in less than 100 words. You may accompany the write-up with plot(s).\n",
    "\n",
    "#### We can observe from the above plotted graphs, that the lowest completion ratio is in Morning and Evening. The main cause of this is simply because people go to their and work and return to their work, at that moment there is quite a shortage of cars or cancelled rides. \n",
    "\n",
    "#### We can see from City to Airport there are lots of cancelled rides in morning. The possible reason might be as the demand from Airport to City is less in morning, so the drivers have to travel with no passengers or very less number of passengers. So the driver cancels the ride in morning\n",
    "\n",
    "#### Same goes with Airport to City, there are chances that lots of flights are coming to Airport, so there are many travellers from airport to city , but the number of cars available are pretty less."
   ]
  },
  {
   "cell_type": "markdown",
   "id": "a257c4e2",
   "metadata": {},
   "source": [
    "### Q ) Recommend some ways to resolve the supply-demand gap.\n",
    "\n",
    "\n",
    "#### As we have discussed the number of cancelled rides are more from City to Airport in morning, possible solution is increase surge pricing, so that drivers would get fair pay for the rides from City to Airport and they can compensate for the losses while coming from Airport to City. \n",
    "#### In the second scenario, we can see that there is huge shortage of cars in airport and abundance supply in City, so there is need to place more drivers in Airport or engage more vehicles at the time of evening at airport"
   ]
  },
  {
   "cell_type": "code",
   "execution_count": null,
   "id": "b6cb32a9",
   "metadata": {},
   "outputs": [],
   "source": []
  }
 ],
 "metadata": {
  "kernelspec": {
   "display_name": "Python 3 (ipykernel)",
   "language": "python",
   "name": "python3"
  },
  "language_info": {
   "codemirror_mode": {
    "name": "ipython",
    "version": 3
   },
   "file_extension": ".py",
   "mimetype": "text/x-python",
   "name": "python",
   "nbconvert_exporter": "python",
   "pygments_lexer": "ipython3",
   "version": "3.9.7"
  }
 },
 "nbformat": 4,
 "nbformat_minor": 5
}
